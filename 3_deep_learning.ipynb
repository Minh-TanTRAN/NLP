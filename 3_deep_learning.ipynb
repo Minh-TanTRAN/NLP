{
 "cells": [
  {
   "cell_type": "code",
   "execution_count": 1,
   "metadata": {},
   "outputs": [],
   "source": [
    "import pandas as pd\n",
    "import plotly.express as px\n",
    "import nltk\n",
    "import re\n",
    "import matplotlib.pyplot as plt\n",
    "import numpy as np\n",
    "\n",
    "from nltk.corpus import stopwords\n",
    "from nltk.stem import SnowballStemmer\n",
    "from sklearn.model_selection import train_test_split\n",
    "\n",
    "from utils import preprocess"
   ]
  },
  {
   "cell_type": "code",
   "execution_count": 2,
   "metadata": {},
   "outputs": [
    {
     "data": {
      "text/html": [
       "<div>\n",
       "<style scoped>\n",
       "    .dataframe tbody tr th:only-of-type {\n",
       "        vertical-align: middle;\n",
       "    }\n",
       "\n",
       "    .dataframe tbody tr th {\n",
       "        vertical-align: top;\n",
       "    }\n",
       "\n",
       "    .dataframe thead th {\n",
       "        text-align: right;\n",
       "    }\n",
       "</style>\n",
       "<table border=\"1\" class=\"dataframe\">\n",
       "  <thead>\n",
       "    <tr style=\"text-align: right;\">\n",
       "      <th></th>\n",
       "      <th>targets</th>\n",
       "      <th>text</th>\n",
       "    </tr>\n",
       "  </thead>\n",
       "  <tbody>\n",
       "    <tr>\n",
       "      <th>0</th>\n",
       "      <td>0</td>\n",
       "      <td>@switchfoot http://twitpic.com/2y1zl - Awww, t...</td>\n",
       "    </tr>\n",
       "    <tr>\n",
       "      <th>1</th>\n",
       "      <td>0</td>\n",
       "      <td>is upset that he can't update his Facebook by ...</td>\n",
       "    </tr>\n",
       "    <tr>\n",
       "      <th>2</th>\n",
       "      <td>0</td>\n",
       "      <td>@Kenichan I dived many times for the ball. Man...</td>\n",
       "    </tr>\n",
       "    <tr>\n",
       "      <th>3</th>\n",
       "      <td>0</td>\n",
       "      <td>my whole body feels itchy and like its on fire</td>\n",
       "    </tr>\n",
       "    <tr>\n",
       "      <th>4</th>\n",
       "      <td>0</td>\n",
       "      <td>@nationwideclass no, it's not behaving at all....</td>\n",
       "    </tr>\n",
       "  </tbody>\n",
       "</table>\n",
       "</div>"
      ],
      "text/plain": [
       "   targets                                               text\n",
       "0        0  @switchfoot http://twitpic.com/2y1zl - Awww, t...\n",
       "1        0  is upset that he can't update his Facebook by ...\n",
       "2        0  @Kenichan I dived many times for the ball. Man...\n",
       "3        0    my whole body feels itchy and like its on fire \n",
       "4        0  @nationwideclass no, it's not behaving at all...."
      ]
     },
     "execution_count": 2,
     "metadata": {},
     "output_type": "execute_result"
    }
   ],
   "source": [
    "df = pd.read_csv(\"sentiment.csv\",encoding = 'latin',header=None)\n",
    "\n",
    "df.columns = ['targets', 'ids', 'date', 'flag', 'user', 'text']\n",
    "\n",
    "# Replace all occurrences of 4 with 1 in the \"targets\" column\n",
    "df['targets'] = df['targets'].replace(4, 1)\n",
    "\n",
    "# Check if columns exist before deleting them\n",
    "columns_to_drop = ['ids', 'date', 'flag', 'user']\n",
    "\n",
    "for col in columns_to_drop:\n",
    "    assert col in df.columns, f\"La colonne '{col}' n'existe pas dans le DataFrame.\"\n",
    "\n",
    "# Delete columns if they exist\n",
    "df.drop(columns_to_drop, axis=1, inplace=True)\n",
    "\n",
    "# Display the first rows of the DataFrame\n",
    "\n",
    "df.head()"
   ]
  },
  {
   "cell_type": "markdown",
   "metadata": {},
   "source": [
    "# Text Preprocessing"
   ]
  },
  {
   "cell_type": "markdown",
   "metadata": {},
   "source": [
    "We tried to import the preprocess function with: **from utils import preprocess**  \n",
    "But the execution time is very long when we recall the .apply(preprocess) function\n",
    "\n",
    "Finally we re-use the function preprocess"
   ]
  },
  {
   "cell_type": "code",
   "execution_count": 3,
   "metadata": {},
   "outputs": [],
   "source": [
    "\n",
    "stop_words = set(stopwords.words('english'))\n",
    "stemmer = SnowballStemmer('english')\n",
    "text_cleaning_re = \"@\\S+|https?:\\S+|http?:\\S|[^A-Za-z0-9]+\"\n",
    "\n",
    "def preprocess(text, stem=False):\n",
    "    text = re.sub(text_cleaning_re, ' ', str(text).lower()).strip()\n",
    "    tokens = []\n",
    "    for token in text.split():\n",
    "        if token not in stop_words:\n",
    "            if stem:\n",
    "                tokens.append(stemmer.stem(token))\n",
    "            else:\n",
    "                tokens.append(token)\n",
    "    return \" \".join(tokens)"
   ]
  },
  {
   "cell_type": "code",
   "execution_count": 4,
   "metadata": {},
   "outputs": [
    {
     "name": "stdout",
     "output_type": "stream",
     "text": [
      "Text before preprocessing :  @switchfoot http://twitpic.com/2y1zl - Awww, that's a bummer.  You shoulda got David Carr of Third Day to do it. ;D\n",
      "Text after preprocessing :  awww bummer shoulda got david carr third day\n"
     ]
    }
   ],
   "source": [
    "print(\"Text before preprocessing : \", df['text'][0])\n",
    "df['text'] = df['text'].apply(preprocess)\n",
    "print(\"Text after preprocessing : \", df['text'][0])"
   ]
  },
  {
   "cell_type": "markdown",
   "metadata": {},
   "source": [
    "# Use Tensorflow (or PyTorch, JAX, ...) and train a sequence model of your choice (RNN, GRU, LSTM, Transformer, ...)"
   ]
  },
  {
   "cell_type": "code",
   "execution_count": 5,
   "metadata": {},
   "outputs": [],
   "source": [
    "from keras.preprocessing.text import Tokenizer\n",
    "from keras.preprocessing.sequence import pad_sequences"
   ]
  },
  {
   "cell_type": "markdown",
   "metadata": {},
   "source": [
    "## Tokenization"
   ]
  },
  {
   "cell_type": "code",
   "execution_count": 6,
   "metadata": {},
   "outputs": [],
   "source": [
    "def tokenize_training_data(X_train, max_words = 1000, max_sequence_length = 32):\n",
    "    tokenizer = Tokenizer(num_words=max_words)\n",
    "    tokenizer.fit_on_texts(X_train)\n",
    "    sequences = tokenizer.texts_to_sequences(X_train)\n",
    "    sequences = pad_sequences(sequences, maxlen=max_sequence_length)\n",
    "    return tokenizer, sequences"
   ]
  },
  {
   "cell_type": "code",
   "execution_count": 7,
   "metadata": {},
   "outputs": [
    {
     "name": "stdout",
     "output_type": "stream",
     "text": [
      "Le nombre de 1 dans l'échantillon de target sur les 1000 premières lignes est : 403\n"
     ]
    },
    {
     "data": {
      "text/plain": [
       "403"
      ]
     },
     "execution_count": 7,
     "metadata": {},
     "output_type": "execute_result"
    }
   ],
   "source": [
    "# Sample the data\n",
    "sample_size = 1000  # Adjust the sample size as needed\n",
    "X_sample = df['text'].sample(n=sample_size, random_state=42)\n",
    "y_sample = df['targets'].loc[X_sample.index]\n",
    "\n",
    "# Split the sampled data into training and testing sets\n",
    "X_train, X_test, y_train, y_test = train_test_split(\n",
    "    X_sample, y_sample, test_size=0.2, random_state=42, stratify=y_sample\n",
    ")\n",
    "\n",
    "nombre_de_1 = y_train.sum()\n",
    "\n",
    "print(\"Le nombre de 1 dans l'échantillon de target sur les 1000 premières lignes est :\", nombre_de_1)\n",
    "y_train.sum()\n",
    "\n"
   ]
  },
  {
   "cell_type": "code",
   "execution_count": 8,
   "metadata": {},
   "outputs": [],
   "source": [
    "# Parameters\n",
    "max_words = 10000\n",
    "max_sequence_length = 200\n",
    "\n",
    "# Tokenize the training & testing data\n",
    "tokenizer, X_train= tokenize_training_data(X_train, max_words, max_sequence_length)\n",
    "X_test = pad_sequences(tokenizer.texts_to_sequences(X_test), maxlen=max_sequence_length)"
   ]
  },
  {
   "cell_type": "code",
   "execution_count": 9,
   "metadata": {},
   "outputs": [],
   "source": [
    "from tensorflow import keras\n",
    "from keras.models import Sequential\n",
    "from keras.layers import Embedding, Conv1D, GlobalMaxPooling1D, Dense, LSTM, SimpleRNN, Flatten\n",
    "from keras.callbacks import EarlyStopping\n",
    "from keras.preprocessing.sequence import pad_sequences\n",
    "from keras.preprocessing.text import text_to_word_sequence\n",
    "from sklearn.metrics import confusion_matrix, classification_report, f1_score\n",
    "import seaborn as sns\n"
   ]
  },
  {
   "cell_type": "code",
   "execution_count": 10,
   "metadata": {},
   "outputs": [],
   "source": [
    "def evaluate_model(model, X_test, y_test):\n",
    "\n",
    "    # Make predictions on test data\n",
    "    prediction_proba = model.predict(X_test)\n",
    "    prediction = (prediction_proba > 0.5).astype(int)\n",
    "    # Create a heatmap for the confusion matrix\n",
    "    conf_matrix = confusion_matrix(y_test, prediction)\n",
    "\n",
    "    plt.figure(figsize=(8, 6))\n",
    "    sns.heatmap(conf_matrix, annot=True, fmt=\"d\", cmap=\"Blues\", cbar=False,\n",
    "                xticklabels=[\"Predicted Negative\", \"Predicted Positive\"],\n",
    "                yticklabels=[\"Actual Negative\", \"Actual Positive\"])\n",
    "    plt.xlabel(\"Predicted\")\n",
    "    plt.ylabel(\"Actual\")\n",
    "    plt.title(\"Confusion Matrix\")\n",
    "    plt.show()"
   ]
  },
  {
   "cell_type": "markdown",
   "metadata": {},
   "source": [
    "# LTSM"
   ]
  },
  {
   "cell_type": "markdown",
   "metadata": {},
   "source": [
    "\n",
    "We use the LSTM architecture as a baseline."
   ]
  },
  {
   "cell_type": "code",
   "execution_count": 11,
   "metadata": {},
   "outputs": [
    {
     "name": "stdout",
     "output_type": "stream",
     "text": [
      "Epoch 1/10\n",
      "400/400 [==============================] - 12s 26ms/step - loss: 0.6903 - accuracy: 0.5337\n",
      "Epoch 2/10\n",
      "400/400 [==============================] - 11s 27ms/step - loss: 0.4464 - accuracy: 0.8225\n",
      "Epoch 3/10\n",
      "400/400 [==============================] - 12s 29ms/step - loss: 0.1129 - accuracy: 0.9688\n",
      "Epoch 4/10\n",
      "400/400 [==============================] - 12s 29ms/step - loss: 0.0674 - accuracy: 0.9837\n",
      "Epoch 5/10\n",
      "400/400 [==============================] - 12s 30ms/step - loss: 0.0308 - accuracy: 0.9937\n",
      "Epoch 6/10\n",
      "400/400 [==============================] - 13s 31ms/step - loss: 0.0132 - accuracy: 0.9950\n",
      "Epoch 7/10\n",
      "400/400 [==============================] - 13s 32ms/step - loss: 0.0294 - accuracy: 0.9862\n",
      "Epoch 8/10\n",
      "400/400 [==============================] - 13s 32ms/step - loss: 0.0153 - accuracy: 0.9950\n",
      "Epoch 9/10\n",
      "400/400 [==============================] - 14s 36ms/step - loss: 0.0079 - accuracy: 0.9975\n",
      "Epoch 10/10\n",
      "400/400 [==============================] - 14s 36ms/step - loss: 0.0145 - accuracy: 0.9975\n",
      "7/7 [==============================] - 1s 18ms/step\n"
     ]
    },
    {
     "data": {
      "image/png": "[encoded data removed]",
      "text/plain": [
       "<Figure size 800x600 with 1 Axes>"
      ]
     },
     "metadata": {},
     "output_type": "display_data"
    }
   ],
   "source": [
    "# Parameters\n",
    "embedding_dim = 32\n",
    "lstm_units = 32\n",
    "\n",
    "# Create a Sequential model with LSTM\n",
    "modelLSTM = keras.Sequential()\n",
    "modelLSTM.add(Embedding(input_dim=max_words, output_dim=embedding_dim, input_length=max_sequence_length))\n",
    "modelLSTM.add(LSTM(units=lstm_units))\n",
    "modelLSTM.add(Dense(1, activation='sigmoid'))\n",
    "\n",
    "# Compile the model\n",
    "modelLSTM.compile(optimizer='adam', loss='binary_crossentropy', metrics=['accuracy'])\n",
    "\n",
    "# Define the early stopping criteria\n",
    "early_stopping = EarlyStopping(monitor=\"loss\", patience=3)\n",
    "\n",
    "# Train the model with early stopping\n",
    "modelLSTM.fit(X_train, y_train, epochs=10, batch_size=2, callbacks=[early_stopping])\n",
    "\n",
    "# Evaluation of the modelLSTM on test data\n",
    "cnn_metrics = evaluate_model(modelLSTM, X_test, y_test)\n",
    "\n",
    "\n"
   ]
  },
  {
   "cell_type": "code",
   "execution_count": 12,
   "metadata": {},
   "outputs": [
    {
     "name": "stdout",
     "output_type": "stream",
     "text": [
      "7/7 [==============================] - 0s 17ms/step\n",
      "              precision    recall  f1-score   support\n",
      "\n",
      "           0       0.64      0.59      0.61        99\n",
      "           1       0.63      0.68      0.65       101\n",
      "\n",
      "    accuracy                           0.64       200\n",
      "   macro avg       0.64      0.63      0.63       200\n",
      "weighted avg       0.64      0.64      0.63       200\n",
      "\n"
     ]
    }
   ],
   "source": [
    "# Assuming you have the actual y_pred values from your model for X_test\n",
    "y_pred = modelLSTM.predict(X_test)\n",
    "y_pred_binary = (y_pred > 0.5).astype(int)\n",
    "\n",
    "# Display a classification report\n",
    "classification_rep = classification_report(y_test, y_pred_binary)\n",
    "print(classification_rep)"
   ]
  },
  {
   "cell_type": "markdown",
   "metadata": {},
   "source": [
    "We have a f1-score of 0.61 for the class 0 and 0.65 for the class 1. The model LTSM is less good that our pipeline that we test previously in the TP2"
   ]
  }
 ],
 "metadata": {
  "kernelspec": {
   "display_name": "base",
   "language": "python",
   "name": "python3"
  },
  "language_info": {
   "codemirror_mode": {
    "name": "ipython",
    "version": 3
   },
   "file_extension": ".py",
   "mimetype": "text/x-python",
   "name": "python",
   "nbconvert_exporter": "python",
   "pygments_lexer": "ipython3",
   "version": "3.10.9"
  }
 },
 "nbformat": 4,
 "nbformat_minor": 2
}
